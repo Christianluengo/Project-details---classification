{
 "cells": [
  {
   "cell_type": "markdown",
   "id": "7df5cbb6",
   "metadata": {},
   "source": [
    "# Importar librerias"
   ]
  },
  {
   "cell_type": "code",
   "execution_count": 1,
   "id": "fc7b4bce",
   "metadata": {},
   "outputs": [],
   "source": [
    "import pandas as pd\n",
    "import sidetable as stb\n",
    "pd.set_option('display.max_columns', None)\n",
    "import matplotlib.pyplot as plt\n",
    "import seaborn as sns\n",
    "import numpy as np\n",
    "import openpyxl\n",
    "\n",
    "# librerías para crear el modelo\n",
    "from sklearn.model_selection import train_test_split\n",
    "from sklearn.preprocessing import StandardScaler\n",
    "from sklearn.model_selection import GridSearchCV\n",
    "from sklearn import tree\n",
    "\n",
    "# para calcular las métricas\n",
    "from sklearn.metrics import confusion_matrix\n",
    "from sklearn.metrics import accuracy_score \n",
    "from sklearn.metrics import precision_score \n",
    "from sklearn.metrics import recall_score \n",
    "from sklearn.metrics import f1_score \n",
    "from sklearn.metrics import cohen_kappa_score\n",
    "\n",
    "\n",
    "from sklearn.linear_model import LogisticRegression\n",
    "from sklearn.ensemble import RandomForestClassifier\n",
    "from sklearn.tree import DecisionTreeClassifier\n",
    "\n",
    "\n",
    "from sklearn.preprocessing import OrdinalEncoder\n",
    "from sklearn.model_selection import cross_val_score\n",
    "from sklearn.neighbors import KNeighborsClassifier\n",
    "from sklearn.metrics import classification_report, confusion_matrix, accuracy_score\n",
    "from sklearn.ensemble import GradientBoostingClassifier\n",
    "from sklearn.model_selection import RandomizedSearchCV\n",
    "from imblearn.under_sampling import RandomUnderSampler"
   ]
  },
  {
   "cell_type": "markdown",
   "id": "394c6274",
   "metadata": {},
   "source": [
    "# Carga de datos"
   ]
  },
  {
   "cell_type": "code",
   "execution_count": 2,
   "id": "598256c1",
   "metadata": {},
   "outputs": [
    {
     "name": "stdout",
     "output_type": "stream",
     "text": [
      "-------------------------------Cargando dataset--------------------------------\n"
     ]
    }
   ],
   "source": [
    "print(\"-------------------------------Cargando dataset--------------------------------\")\n",
    "df = pd.read_excel(\"creditcardmarketing.xlsx\", index_col= 0)"
   ]
  },
  {
   "cell_type": "code",
   "execution_count": 3,
   "id": "a1666997",
   "metadata": {},
   "outputs": [
    {
     "data": {
      "text/html": [
       "<div>\n",
       "<style scoped>\n",
       "    .dataframe tbody tr th:only-of-type {\n",
       "        vertical-align: middle;\n",
       "    }\n",
       "\n",
       "    .dataframe tbody tr th {\n",
       "        vertical-align: top;\n",
       "    }\n",
       "\n",
       "    .dataframe thead th {\n",
       "        text-align: right;\n",
       "    }\n",
       "</style>\n",
       "<table border=\"1\" class=\"dataframe\">\n",
       "  <thead>\n",
       "    <tr style=\"text-align: right;\">\n",
       "      <th></th>\n",
       "      <th>Offer Accepted</th>\n",
       "      <th>Reward</th>\n",
       "      <th>Mailer Type</th>\n",
       "      <th>Income Level</th>\n",
       "      <th># Bank Accounts Open</th>\n",
       "      <th>Overdraft Protection</th>\n",
       "      <th>Credit Rating</th>\n",
       "      <th># Credit Cards Held</th>\n",
       "      <th># Homes Owned</th>\n",
       "      <th>Household Size</th>\n",
       "      <th>Own Your Home</th>\n",
       "      <th>Average Balance</th>\n",
       "      <th>Q1 Balance</th>\n",
       "      <th>Q2 Balance</th>\n",
       "      <th>Q3 Balance</th>\n",
       "      <th>Q4 Balance</th>\n",
       "    </tr>\n",
       "    <tr>\n",
       "      <th>Customer Number</th>\n",
       "      <th></th>\n",
       "      <th></th>\n",
       "      <th></th>\n",
       "      <th></th>\n",
       "      <th></th>\n",
       "      <th></th>\n",
       "      <th></th>\n",
       "      <th></th>\n",
       "      <th></th>\n",
       "      <th></th>\n",
       "      <th></th>\n",
       "      <th></th>\n",
       "      <th></th>\n",
       "      <th></th>\n",
       "      <th></th>\n",
       "      <th></th>\n",
       "    </tr>\n",
       "  </thead>\n",
       "  <tbody>\n",
       "    <tr>\n",
       "      <th>1</th>\n",
       "      <td>No</td>\n",
       "      <td>Air Miles</td>\n",
       "      <td>Letter</td>\n",
       "      <td>High</td>\n",
       "      <td>1</td>\n",
       "      <td>No</td>\n",
       "      <td>High</td>\n",
       "      <td>2</td>\n",
       "      <td>1</td>\n",
       "      <td>4</td>\n",
       "      <td>No</td>\n",
       "      <td>1160.75</td>\n",
       "      <td>1669.0</td>\n",
       "      <td>877.0</td>\n",
       "      <td>1095.0</td>\n",
       "      <td>1002.0</td>\n",
       "    </tr>\n",
       "    <tr>\n",
       "      <th>2</th>\n",
       "      <td>No</td>\n",
       "      <td>Air Miles</td>\n",
       "      <td>Letter</td>\n",
       "      <td>Medium</td>\n",
       "      <td>1</td>\n",
       "      <td>No</td>\n",
       "      <td>Medium</td>\n",
       "      <td>2</td>\n",
       "      <td>2</td>\n",
       "      <td>5</td>\n",
       "      <td>Yes</td>\n",
       "      <td>147.25</td>\n",
       "      <td>39.0</td>\n",
       "      <td>106.0</td>\n",
       "      <td>78.0</td>\n",
       "      <td>366.0</td>\n",
       "    </tr>\n",
       "    <tr>\n",
       "      <th>3</th>\n",
       "      <td>No</td>\n",
       "      <td>Air Miles</td>\n",
       "      <td>Postcard</td>\n",
       "      <td>High</td>\n",
       "      <td>2</td>\n",
       "      <td>No</td>\n",
       "      <td>Medium</td>\n",
       "      <td>2</td>\n",
       "      <td>1</td>\n",
       "      <td>2</td>\n",
       "      <td>Yes</td>\n",
       "      <td>276.50</td>\n",
       "      <td>367.0</td>\n",
       "      <td>352.0</td>\n",
       "      <td>145.0</td>\n",
       "      <td>242.0</td>\n",
       "    </tr>\n",
       "  </tbody>\n",
       "</table>\n",
       "</div>"
      ],
      "text/plain": [
       "                Offer Accepted     Reward Mailer Type Income Level  \\\n",
       "Customer Number                                                      \n",
       "1                           No  Air Miles      Letter         High   \n",
       "2                           No  Air Miles      Letter       Medium   \n",
       "3                           No  Air Miles    Postcard         High   \n",
       "\n",
       "                 # Bank Accounts Open Overdraft Protection Credit Rating  \\\n",
       "Customer Number                                                            \n",
       "1                                   1                   No          High   \n",
       "2                                   1                   No        Medium   \n",
       "3                                   2                   No        Medium   \n",
       "\n",
       "                 # Credit Cards Held  # Homes Owned  Household Size  \\\n",
       "Customer Number                                                       \n",
       "1                                  2              1               4   \n",
       "2                                  2              2               5   \n",
       "3                                  2              1               2   \n",
       "\n",
       "                Own Your Home  Average Balance  Q1 Balance  Q2 Balance  \\\n",
       "Customer Number                                                          \n",
       "1                          No          1160.75      1669.0       877.0   \n",
       "2                         Yes           147.25        39.0       106.0   \n",
       "3                         Yes           276.50       367.0       352.0   \n",
       "\n",
       "                 Q3 Balance  Q4 Balance  \n",
       "Customer Number                          \n",
       "1                    1095.0      1002.0  \n",
       "2                      78.0       366.0  \n",
       "3                     145.0       242.0  "
      ]
     },
     "execution_count": 3,
     "metadata": {},
     "output_type": "execute_result"
    }
   ],
   "source": [
    "df.head(3)"
   ]
  },
  {
   "cell_type": "markdown",
   "id": "d77c92a7",
   "metadata": {},
   "source": [
    "# Análisis exploratorio, EDA"
   ]
  },
  {
   "cell_type": "code",
   "execution_count": 4,
   "id": "a9fc84a8",
   "metadata": {},
   "outputs": [
    {
     "data": {
      "text/plain": [
       "Index(['Offer Accepted', 'Reward', 'Mailer Type', 'Income Level',\n",
       "       '# Bank Accounts Open', 'Overdraft Protection', 'Credit Rating',\n",
       "       '# Credit Cards Held', '# Homes Owned', 'Household Size',\n",
       "       'Own Your Home', 'Average Balance', 'Q1 Balance', 'Q2 Balance',\n",
       "       'Q3 Balance', 'Q4 Balance'],\n",
       "      dtype='object')"
      ]
     },
     "execution_count": 4,
     "metadata": {},
     "output_type": "execute_result"
    }
   ],
   "source": [
    "df.columns"
   ]
  },
  {
   "cell_type": "code",
   "execution_count": 5,
   "id": "09e0b6fe",
   "metadata": {},
   "outputs": [
    {
     "name": "stdout",
     "output_type": "stream",
     "text": [
      "Filas del dataset: 18000\n",
      "Columnas del dataset: 16\n"
     ]
    }
   ],
   "source": [
    "print(\"Filas del dataset:\", df.shape[0])\n",
    "print(\"Columnas del dataset:\", df.shape[1])"
   ]
  },
  {
   "cell_type": "code",
   "execution_count": 6,
   "id": "97361e1a",
   "metadata": {},
   "outputs": [
    {
     "data": {
      "text/plain": [
       "0"
      ]
     },
     "execution_count": 6,
     "metadata": {},
     "output_type": "execute_result"
    }
   ],
   "source": [
    "df.duplicated().sum()"
   ]
  },
  {
   "cell_type": "code",
   "execution_count": 7,
   "id": "1e0d479d",
   "metadata": {},
   "outputs": [
    {
     "data": {
      "text/plain": [
       "Offer Accepted           object\n",
       "Reward                   object\n",
       "Mailer Type              object\n",
       "Income Level             object\n",
       "# Bank Accounts Open      int64\n",
       "Overdraft Protection     object\n",
       "Credit Rating            object\n",
       "# Credit Cards Held       int64\n",
       "# Homes Owned             int64\n",
       "Household Size            int64\n",
       "Own Your Home            object\n",
       "Average Balance         float64\n",
       "Q1 Balance              float64\n",
       "Q2 Balance              float64\n",
       "Q3 Balance              float64\n",
       "Q4 Balance              float64\n",
       "dtype: object"
      ]
     },
     "execution_count": 7,
     "metadata": {},
     "output_type": "execute_result"
    }
   ],
   "source": [
    "df.dtypes"
   ]
  },
  {
   "cell_type": "code",
   "execution_count": 8,
   "id": "13b08f34",
   "metadata": {},
   "outputs": [
    {
     "data": {
      "text/html": [
       "<div>\n",
       "<style scoped>\n",
       "    .dataframe tbody tr th:only-of-type {\n",
       "        vertical-align: middle;\n",
       "    }\n",
       "\n",
       "    .dataframe tbody tr th {\n",
       "        vertical-align: top;\n",
       "    }\n",
       "\n",
       "    .dataframe thead th {\n",
       "        text-align: right;\n",
       "    }\n",
       "</style>\n",
       "<table border=\"1\" class=\"dataframe\">\n",
       "  <thead>\n",
       "    <tr style=\"text-align: right;\">\n",
       "      <th></th>\n",
       "      <th>missing</th>\n",
       "      <th>total</th>\n",
       "      <th>percent</th>\n",
       "    </tr>\n",
       "  </thead>\n",
       "  <tbody>\n",
       "    <tr>\n",
       "      <th>Average Balance</th>\n",
       "      <td>24</td>\n",
       "      <td>18000</td>\n",
       "      <td>0.133333</td>\n",
       "    </tr>\n",
       "    <tr>\n",
       "      <th>Q1 Balance</th>\n",
       "      <td>24</td>\n",
       "      <td>18000</td>\n",
       "      <td>0.133333</td>\n",
       "    </tr>\n",
       "    <tr>\n",
       "      <th>Q2 Balance</th>\n",
       "      <td>24</td>\n",
       "      <td>18000</td>\n",
       "      <td>0.133333</td>\n",
       "    </tr>\n",
       "    <tr>\n",
       "      <th>Q3 Balance</th>\n",
       "      <td>24</td>\n",
       "      <td>18000</td>\n",
       "      <td>0.133333</td>\n",
       "    </tr>\n",
       "    <tr>\n",
       "      <th>Q4 Balance</th>\n",
       "      <td>24</td>\n",
       "      <td>18000</td>\n",
       "      <td>0.133333</td>\n",
       "    </tr>\n",
       "    <tr>\n",
       "      <th>Offer Accepted</th>\n",
       "      <td>0</td>\n",
       "      <td>18000</td>\n",
       "      <td>0.000000</td>\n",
       "    </tr>\n",
       "    <tr>\n",
       "      <th>Reward</th>\n",
       "      <td>0</td>\n",
       "      <td>18000</td>\n",
       "      <td>0.000000</td>\n",
       "    </tr>\n",
       "    <tr>\n",
       "      <th>Mailer Type</th>\n",
       "      <td>0</td>\n",
       "      <td>18000</td>\n",
       "      <td>0.000000</td>\n",
       "    </tr>\n",
       "    <tr>\n",
       "      <th>Income Level</th>\n",
       "      <td>0</td>\n",
       "      <td>18000</td>\n",
       "      <td>0.000000</td>\n",
       "    </tr>\n",
       "    <tr>\n",
       "      <th># Bank Accounts Open</th>\n",
       "      <td>0</td>\n",
       "      <td>18000</td>\n",
       "      <td>0.000000</td>\n",
       "    </tr>\n",
       "    <tr>\n",
       "      <th>Overdraft Protection</th>\n",
       "      <td>0</td>\n",
       "      <td>18000</td>\n",
       "      <td>0.000000</td>\n",
       "    </tr>\n",
       "    <tr>\n",
       "      <th>Credit Rating</th>\n",
       "      <td>0</td>\n",
       "      <td>18000</td>\n",
       "      <td>0.000000</td>\n",
       "    </tr>\n",
       "    <tr>\n",
       "      <th># Credit Cards Held</th>\n",
       "      <td>0</td>\n",
       "      <td>18000</td>\n",
       "      <td>0.000000</td>\n",
       "    </tr>\n",
       "    <tr>\n",
       "      <th># Homes Owned</th>\n",
       "      <td>0</td>\n",
       "      <td>18000</td>\n",
       "      <td>0.000000</td>\n",
       "    </tr>\n",
       "    <tr>\n",
       "      <th>Household Size</th>\n",
       "      <td>0</td>\n",
       "      <td>18000</td>\n",
       "      <td>0.000000</td>\n",
       "    </tr>\n",
       "    <tr>\n",
       "      <th>Own Your Home</th>\n",
       "      <td>0</td>\n",
       "      <td>18000</td>\n",
       "      <td>0.000000</td>\n",
       "    </tr>\n",
       "  </tbody>\n",
       "</table>\n",
       "</div>"
      ],
      "text/plain": [
       "                      missing  total   percent\n",
       "Average Balance            24  18000  0.133333\n",
       "Q1 Balance                 24  18000  0.133333\n",
       "Q2 Balance                 24  18000  0.133333\n",
       "Q3 Balance                 24  18000  0.133333\n",
       "Q4 Balance                 24  18000  0.133333\n",
       "Offer Accepted              0  18000  0.000000\n",
       "Reward                      0  18000  0.000000\n",
       "Mailer Type                 0  18000  0.000000\n",
       "Income Level                0  18000  0.000000\n",
       "# Bank Accounts Open        0  18000  0.000000\n",
       "Overdraft Protection        0  18000  0.000000\n",
       "Credit Rating               0  18000  0.000000\n",
       "# Credit Cards Held         0  18000  0.000000\n",
       "# Homes Owned               0  18000  0.000000\n",
       "Household Size              0  18000  0.000000\n",
       "Own Your Home               0  18000  0.000000"
      ]
     },
     "execution_count": 8,
     "metadata": {},
     "output_type": "execute_result"
    }
   ],
   "source": [
    "df.stb.missing()"
   ]
  },
  {
   "cell_type": "code",
   "execution_count": 9,
   "id": "4faa41eb",
   "metadata": {},
   "outputs": [
    {
     "data": {
      "text/html": [
       "<div>\n",
       "<style scoped>\n",
       "    .dataframe tbody tr th:only-of-type {\n",
       "        vertical-align: middle;\n",
       "    }\n",
       "\n",
       "    .dataframe tbody tr th {\n",
       "        vertical-align: top;\n",
       "    }\n",
       "\n",
       "    .dataframe thead th {\n",
       "        text-align: right;\n",
       "    }\n",
       "</style>\n",
       "<table border=\"1\" class=\"dataframe\">\n",
       "  <thead>\n",
       "    <tr style=\"text-align: right;\">\n",
       "      <th></th>\n",
       "      <th>count</th>\n",
       "      <th>mean</th>\n",
       "      <th>std</th>\n",
       "      <th>min</th>\n",
       "      <th>25%</th>\n",
       "      <th>50%</th>\n",
       "      <th>75%</th>\n",
       "      <th>max</th>\n",
       "    </tr>\n",
       "  </thead>\n",
       "  <tbody>\n",
       "    <tr>\n",
       "      <th># Bank Accounts Open</th>\n",
       "      <td>18000.0</td>\n",
       "      <td>1.255778</td>\n",
       "      <td>0.472501</td>\n",
       "      <td>1.00</td>\n",
       "      <td>1.00</td>\n",
       "      <td>1.0</td>\n",
       "      <td>1.00</td>\n",
       "      <td>3.00</td>\n",
       "    </tr>\n",
       "    <tr>\n",
       "      <th># Credit Cards Held</th>\n",
       "      <td>18000.0</td>\n",
       "      <td>1.903500</td>\n",
       "      <td>0.797009</td>\n",
       "      <td>1.00</td>\n",
       "      <td>1.00</td>\n",
       "      <td>2.0</td>\n",
       "      <td>2.00</td>\n",
       "      <td>4.00</td>\n",
       "    </tr>\n",
       "    <tr>\n",
       "      <th># Homes Owned</th>\n",
       "      <td>18000.0</td>\n",
       "      <td>1.203444</td>\n",
       "      <td>0.427341</td>\n",
       "      <td>1.00</td>\n",
       "      <td>1.00</td>\n",
       "      <td>1.0</td>\n",
       "      <td>1.00</td>\n",
       "      <td>3.00</td>\n",
       "    </tr>\n",
       "    <tr>\n",
       "      <th>Household Size</th>\n",
       "      <td>18000.0</td>\n",
       "      <td>3.499056</td>\n",
       "      <td>1.114182</td>\n",
       "      <td>1.00</td>\n",
       "      <td>3.00</td>\n",
       "      <td>3.0</td>\n",
       "      <td>4.00</td>\n",
       "      <td>9.00</td>\n",
       "    </tr>\n",
       "    <tr>\n",
       "      <th>Average Balance</th>\n",
       "      <td>17976.0</td>\n",
       "      <td>940.515562</td>\n",
       "      <td>350.297837</td>\n",
       "      <td>48.25</td>\n",
       "      <td>787.50</td>\n",
       "      <td>1007.0</td>\n",
       "      <td>1153.25</td>\n",
       "      <td>3366.25</td>\n",
       "    </tr>\n",
       "    <tr>\n",
       "      <th>Q1 Balance</th>\n",
       "      <td>17976.0</td>\n",
       "      <td>910.450656</td>\n",
       "      <td>620.077060</td>\n",
       "      <td>0.00</td>\n",
       "      <td>392.75</td>\n",
       "      <td>772.0</td>\n",
       "      <td>1521.00</td>\n",
       "      <td>3450.00</td>\n",
       "    </tr>\n",
       "    <tr>\n",
       "      <th>Q2 Balance</th>\n",
       "      <td>17976.0</td>\n",
       "      <td>999.392190</td>\n",
       "      <td>457.402268</td>\n",
       "      <td>0.00</td>\n",
       "      <td>663.00</td>\n",
       "      <td>1032.0</td>\n",
       "      <td>1342.00</td>\n",
       "      <td>3421.00</td>\n",
       "    </tr>\n",
       "    <tr>\n",
       "      <th>Q3 Balance</th>\n",
       "      <td>17976.0</td>\n",
       "      <td>1042.033600</td>\n",
       "      <td>553.452599</td>\n",
       "      <td>0.00</td>\n",
       "      <td>633.00</td>\n",
       "      <td>945.5</td>\n",
       "      <td>1463.00</td>\n",
       "      <td>3823.00</td>\n",
       "    </tr>\n",
       "    <tr>\n",
       "      <th>Q4 Balance</th>\n",
       "      <td>17976.0</td>\n",
       "      <td>810.185803</td>\n",
       "      <td>559.001365</td>\n",
       "      <td>0.00</td>\n",
       "      <td>363.00</td>\n",
       "      <td>703.0</td>\n",
       "      <td>1212.00</td>\n",
       "      <td>4215.00</td>\n",
       "    </tr>\n",
       "  </tbody>\n",
       "</table>\n",
       "</div>"
      ],
      "text/plain": [
       "                        count         mean         std    min     25%     50%  \\\n",
       "# Bank Accounts Open  18000.0     1.255778    0.472501   1.00    1.00     1.0   \n",
       "# Credit Cards Held   18000.0     1.903500    0.797009   1.00    1.00     2.0   \n",
       "# Homes Owned         18000.0     1.203444    0.427341   1.00    1.00     1.0   \n",
       "Household Size        18000.0     3.499056    1.114182   1.00    3.00     3.0   \n",
       "Average Balance       17976.0   940.515562  350.297837  48.25  787.50  1007.0   \n",
       "Q1 Balance            17976.0   910.450656  620.077060   0.00  392.75   772.0   \n",
       "Q2 Balance            17976.0   999.392190  457.402268   0.00  663.00  1032.0   \n",
       "Q3 Balance            17976.0  1042.033600  553.452599   0.00  633.00   945.5   \n",
       "Q4 Balance            17976.0   810.185803  559.001365   0.00  363.00   703.0   \n",
       "\n",
       "                          75%      max  \n",
       "# Bank Accounts Open     1.00     3.00  \n",
       "# Credit Cards Held      2.00     4.00  \n",
       "# Homes Owned            1.00     3.00  \n",
       "Household Size           4.00     9.00  \n",
       "Average Balance       1153.25  3366.25  \n",
       "Q1 Balance            1521.00  3450.00  \n",
       "Q2 Balance            1342.00  3421.00  \n",
       "Q3 Balance            1463.00  3823.00  \n",
       "Q4 Balance            1212.00  4215.00  "
      ]
     },
     "execution_count": 9,
     "metadata": {},
     "output_type": "execute_result"
    }
   ],
   "source": [
    "df.describe().T"
   ]
  },
  {
   "cell_type": "code",
   "execution_count": 10,
   "id": "ad8fb344",
   "metadata": {},
   "outputs": [
    {
     "data": {
      "image/png": "[encoded data removed]",
      "text/plain": [
       "<Figure size 1008x432 with 7 Axes>"
      ]
     },
     "metadata": {
      "needs_background": "light"
     },
     "output_type": "display_data"
    }
   ],
   "source": [
    "str_cols = df.select_dtypes('object').columns\n",
    "\n",
    "fig, ax = plt.subplots( 2, 4, figsize=(14, 6))\n",
    "ax = ax.flat\n",
    "\n",
    "for i in range(len(str_cols)): \n",
    "    sns.countplot(data = df, x = str_cols[i], alpha = 0.6,palette = \"viridis\", ax = ax[i])\n",
    "    \n",
    "    \n",
    "    ax[i].set_title(str_cols[i], fontsize = 12, fontweight = \"bold\")\n",
    "    ax[i].tick_params(labelsize = 12)\n",
    "    ax[i].set_xlabel(\"\")\n",
    "\n",
    "fig.delaxes(ax[-1])\n",
    "fig.tight_layout();"
   ]
  },
  {
   "cell_type": "code",
   "execution_count": 11,
   "id": "37415816",
   "metadata": {},
   "outputs": [
    {
     "data": {
      "image/png": "[encoded data removed]",
      "text/plain": [
       "<Figure size 1296x720 with 10 Axes>"
      ]
     },
     "metadata": {
      "needs_background": "light"
     },
     "output_type": "display_data"
    }
   ],
   "source": [
    "num_cols = df.select_dtypes(np.number).columns\n",
    "\n",
    "fig, axes = plt.subplots( 5, 2, figsize=(18, 10))\n",
    "axes = axes.flat\n",
    "\n",
    "for i in range(len(num_cols)): \n",
    "    sns.boxplot(data = df, x = num_cols[i], color= 'mediumaquamarine', ax= axes[i]).set_title(num_cols[i], fontsize = 12, fontweight = \"bold\")\n",
    "    axes[i].tick_params(labelsize = 13)\n",
    "    axes[i].set_xlabel(\"\")\n",
    "\n",
    "fig.tight_layout();"
   ]
  },
  {
   "cell_type": "markdown",
   "id": "1dce50b6",
   "metadata": {},
   "source": [
    "# Limpieza preliminar"
   ]
  },
  {
   "cell_type": "code",
   "execution_count": 12,
   "id": "7410f963",
   "metadata": {},
   "outputs": [
    {
     "name": "stdout",
     "output_type": "stream",
     "text": [
      "Modificamos el nombre de las columnas para que pueda ser más intuitivo su uso durante el proceso de limpieza y modelado\n"
     ]
    }
   ],
   "source": [
    "df.columns = df.columns.str.lower().str.replace(\"#\",\" \").str.strip().str.replace(\" \",\"_\")\n",
    "print(\"Modificamos el nombre de las columnas para que pueda ser más intuitivo su uso durante el proceso de limpieza y modelado\")"
   ]
  },
  {
   "cell_type": "code",
   "execution_count": 13,
   "id": "c9a3092e",
   "metadata": {},
   "outputs": [
    {
     "data": {
      "text/html": [
       "<div>\n",
       "<style scoped>\n",
       "    .dataframe tbody tr th:only-of-type {\n",
       "        vertical-align: middle;\n",
       "    }\n",
       "\n",
       "    .dataframe tbody tr th {\n",
       "        vertical-align: top;\n",
       "    }\n",
       "\n",
       "    .dataframe thead th {\n",
       "        text-align: right;\n",
       "    }\n",
       "</style>\n",
       "<table border=\"1\" class=\"dataframe\">\n",
       "  <thead>\n",
       "    <tr style=\"text-align: right;\">\n",
       "      <th></th>\n",
       "      <th>offer_accepted</th>\n",
       "      <th>reward</th>\n",
       "      <th>mailer_type</th>\n",
       "      <th>income_level</th>\n",
       "      <th>bank_accounts_open</th>\n",
       "      <th>overdraft_protection</th>\n",
       "      <th>credit_rating</th>\n",
       "      <th>credit_cards_held</th>\n",
       "      <th>homes_owned</th>\n",
       "      <th>household_size</th>\n",
       "      <th>own_your_home</th>\n",
       "      <th>average_balance</th>\n",
       "      <th>q1_balance</th>\n",
       "      <th>q2_balance</th>\n",
       "      <th>q3_balance</th>\n",
       "      <th>q4_balance</th>\n",
       "    </tr>\n",
       "    <tr>\n",
       "      <th>Customer Number</th>\n",
       "      <th></th>\n",
       "      <th></th>\n",
       "      <th></th>\n",
       "      <th></th>\n",
       "      <th></th>\n",
       "      <th></th>\n",
       "      <th></th>\n",
       "      <th></th>\n",
       "      <th></th>\n",
       "      <th></th>\n",
       "      <th></th>\n",
       "      <th></th>\n",
       "      <th></th>\n",
       "      <th></th>\n",
       "      <th></th>\n",
       "      <th></th>\n",
       "    </tr>\n",
       "  </thead>\n",
       "  <tbody>\n",
       "    <tr>\n",
       "      <th>324</th>\n",
       "      <td>No</td>\n",
       "      <td>Points</td>\n",
       "      <td>Postcard</td>\n",
       "      <td>Medium</td>\n",
       "      <td>1</td>\n",
       "      <td>No</td>\n",
       "      <td>High</td>\n",
       "      <td>1</td>\n",
       "      <td>1</td>\n",
       "      <td>4</td>\n",
       "      <td>No</td>\n",
       "      <td>NaN</td>\n",
       "      <td>NaN</td>\n",
       "      <td>NaN</td>\n",
       "      <td>NaN</td>\n",
       "      <td>NaN</td>\n",
       "    </tr>\n",
       "    <tr>\n",
       "      <th>3071</th>\n",
       "      <td>Yes</td>\n",
       "      <td>Air Miles</td>\n",
       "      <td>Postcard</td>\n",
       "      <td>Low</td>\n",
       "      <td>3</td>\n",
       "      <td>No</td>\n",
       "      <td>Medium</td>\n",
       "      <td>2</td>\n",
       "      <td>1</td>\n",
       "      <td>4</td>\n",
       "      <td>Yes</td>\n",
       "      <td>NaN</td>\n",
       "      <td>NaN</td>\n",
       "      <td>NaN</td>\n",
       "      <td>NaN</td>\n",
       "      <td>NaN</td>\n",
       "    </tr>\n",
       "  </tbody>\n",
       "</table>\n",
       "</div>"
      ],
      "text/plain": [
       "                offer_accepted     reward mailer_type income_level  \\\n",
       "Customer Number                                                      \n",
       "324                         No     Points    Postcard       Medium   \n",
       "3071                       Yes  Air Miles    Postcard          Low   \n",
       "\n",
       "                 bank_accounts_open overdraft_protection credit_rating  \\\n",
       "Customer Number                                                          \n",
       "324                               1                   No          High   \n",
       "3071                              3                   No        Medium   \n",
       "\n",
       "                 credit_cards_held  homes_owned  household_size own_your_home  \\\n",
       "Customer Number                                                                 \n",
       "324                              1            1               4            No   \n",
       "3071                             2            1               4           Yes   \n",
       "\n",
       "                 average_balance  q1_balance  q2_balance  q3_balance  \\\n",
       "Customer Number                                                        \n",
       "324                          NaN         NaN         NaN         NaN   \n",
       "3071                         NaN         NaN         NaN         NaN   \n",
       "\n",
       "                 q4_balance  \n",
       "Customer Number              \n",
       "324                     NaN  \n",
       "3071                    NaN  "
      ]
     },
     "metadata": {},
     "output_type": "display_data"
    },
    {
     "name": "stdout",
     "output_type": "stream",
     "text": [
      "0.13333333333333333\n"
     ]
    }
   ],
   "source": [
    "values_nans = df[df.isnull().any(axis=1)]\n",
    "display(values_nans.head(2))\n",
    "percen_nans = values_nans.shape[0] / df.shape[0] * 100\n",
    "print(percen_nans)"
   ]
  },
  {
   "cell_type": "markdown",
   "id": "d92bcb93",
   "metadata": {},
   "source": [
    "Todas las filas que contienen valores nulos estan concentradas en las columnas sobre el salario del cliente. Una vez analizadas las 24 filas que contienen nans procedemos a eliminarlas, no llegan ni al 1% del dataset."
   ]
  },
  {
   "cell_type": "markdown",
   "id": "cc4ed825",
   "metadata": {},
   "source": [
    "# Análisis Preprocesado"
   ]
  },
  {
   "cell_type": "markdown",
   "id": "3457707c",
   "metadata": {},
   "source": [
    "### Variable respuesta"
   ]
  },
  {
   "cell_type": "code",
   "execution_count": 14,
   "id": "79804733",
   "metadata": {},
   "outputs": [
    {
     "data": {
      "text/plain": [
       "No     0.943167\n",
       "Yes    0.056833\n",
       "Name: offer_accepted, dtype: float64"
      ]
     },
     "execution_count": 14,
     "metadata": {},
     "output_type": "execute_result"
    },
    {
     "data": {
      "image/png": "[encoded data removed]",
      "text/plain": [
       "<Figure size 432x216 with 1 Axes>"
      ]
     },
     "metadata": {
      "needs_background": "light"
     },
     "output_type": "display_data"
    }
   ],
   "source": [
    "plt.figure(figsize=(6,3))\n",
    "\n",
    "sns.countplot(data = df, x = \"offer_accepted\",  palette = \"viridis\",  edgecolor='black');\n",
    "\n",
    "df['offer_accepted'].value_counts() / df.shape[0]"
   ]
  },
  {
   "cell_type": "code",
   "execution_count": 15,
   "id": "6c0afc26",
   "metadata": {},
   "outputs": [
    {
     "data": {
      "image/png": "[encoded data removed]",
      "text/plain": [
       "<Figure size 1008x432 with 6 Axes>"
      ]
     },
     "metadata": {
      "needs_background": "light"
     },
     "output_type": "display_data"
    }
   ],
   "source": [
    "str_cols2 = df.select_dtypes('object').columns.drop(\"offer_accepted\")\n",
    "\n",
    "fig, ax = plt.subplots( 2, 3, figsize=(14, 6))\n",
    "ax = ax.flat\n",
    "\n",
    "for i in range(len(str_cols2)): \n",
    "    sns.countplot(data = df, x = str_cols2[i], alpha = 0.8,hue= 'offer_accepted', palette = \"viridis\",ax = ax[i])\n",
    "    \n",
    "    \n",
    "    ax[i].set_title(str_cols2[i], fontsize = 12, fontweight = \"bold\")\n",
    "    ax[i].tick_params(labelsize = 12)\n",
    "    ax[i].set_xlabel(\"\")\n",
    "\n",
    "fig.tight_layout();"
   ]
  },
  {
   "cell_type": "code",
   "execution_count": 16,
   "id": "bb6e8fb1",
   "metadata": {},
   "outputs": [
    {
     "data": {
      "text/html": [
       "<div>\n",
       "<style scoped>\n",
       "    .dataframe tbody tr th:only-of-type {\n",
       "        vertical-align: middle;\n",
       "    }\n",
       "\n",
       "    .dataframe tbody tr th {\n",
       "        vertical-align: top;\n",
       "    }\n",
       "\n",
       "    .dataframe thead th {\n",
       "        text-align: right;\n",
       "    }\n",
       "</style>\n",
       "<table border=\"1\" class=\"dataframe\">\n",
       "  <thead>\n",
       "    <tr style=\"text-align: right;\">\n",
       "      <th></th>\n",
       "      <th>credit_rating</th>\n",
       "      <th>offer_accepted</th>\n",
       "      <th>count</th>\n",
       "      <th>percent</th>\n",
       "      <th>cumulative_count</th>\n",
       "      <th>cumulative_percent</th>\n",
       "    </tr>\n",
       "  </thead>\n",
       "  <tbody>\n",
       "    <tr>\n",
       "      <th>0</th>\n",
       "      <td>High</td>\n",
       "      <td>No</td>\n",
       "      <td>5952</td>\n",
       "      <td>33.066667</td>\n",
       "      <td>5952</td>\n",
       "      <td>33.066667</td>\n",
       "    </tr>\n",
       "    <tr>\n",
       "      <th>1</th>\n",
       "      <td>Medium</td>\n",
       "      <td>No</td>\n",
       "      <td>5701</td>\n",
       "      <td>31.672222</td>\n",
       "      <td>11653</td>\n",
       "      <td>64.738889</td>\n",
       "    </tr>\n",
       "    <tr>\n",
       "      <th>2</th>\n",
       "      <td>Low</td>\n",
       "      <td>No</td>\n",
       "      <td>5324</td>\n",
       "      <td>29.577778</td>\n",
       "      <td>16977</td>\n",
       "      <td>94.316667</td>\n",
       "    </tr>\n",
       "    <tr>\n",
       "      <th>3</th>\n",
       "      <td>Low</td>\n",
       "      <td>Yes</td>\n",
       "      <td>633</td>\n",
       "      <td>3.516667</td>\n",
       "      <td>17610</td>\n",
       "      <td>97.833333</td>\n",
       "    </tr>\n",
       "    <tr>\n",
       "      <th>4</th>\n",
       "      <td>Medium</td>\n",
       "      <td>Yes</td>\n",
       "      <td>271</td>\n",
       "      <td>1.505556</td>\n",
       "      <td>17881</td>\n",
       "      <td>99.338889</td>\n",
       "    </tr>\n",
       "    <tr>\n",
       "      <th>5</th>\n",
       "      <td>High</td>\n",
       "      <td>Yes</td>\n",
       "      <td>119</td>\n",
       "      <td>0.661111</td>\n",
       "      <td>18000</td>\n",
       "      <td>100.000000</td>\n",
       "    </tr>\n",
       "  </tbody>\n",
       "</table>\n",
       "</div>"
      ],
      "text/plain": [
       "  credit_rating offer_accepted  count    percent  cumulative_count  \\\n",
       "0          High             No   5952  33.066667              5952   \n",
       "1        Medium             No   5701  31.672222             11653   \n",
       "2           Low             No   5324  29.577778             16977   \n",
       "3           Low            Yes    633   3.516667             17610   \n",
       "4        Medium            Yes    271   1.505556             17881   \n",
       "5          High            Yes    119   0.661111             18000   \n",
       "\n",
       "   cumulative_percent  \n",
       "0           33.066667  \n",
       "1           64.738889  \n",
       "2           94.316667  \n",
       "3           97.833333  \n",
       "4           99.338889  \n",
       "5          100.000000  "
      ]
     },
     "execution_count": 16,
     "metadata": {},
     "output_type": "execute_result"
    }
   ],
   "source": [
    "df.stb.freq(['credit_rating', 'offer_accepted'])"
   ]
  },
  {
   "cell_type": "code",
   "execution_count": 17,
   "id": "68180ec5",
   "metadata": {},
   "outputs": [
    {
     "data": {
      "text/html": [
       "<div>\n",
       "<style scoped>\n",
       "    .dataframe tbody tr th:only-of-type {\n",
       "        vertical-align: middle;\n",
       "    }\n",
       "\n",
       "    .dataframe tbody tr th {\n",
       "        vertical-align: top;\n",
       "    }\n",
       "\n",
       "    .dataframe thead th {\n",
       "        text-align: right;\n",
       "    }\n",
       "</style>\n",
       "<table border=\"1\" class=\"dataframe\">\n",
       "  <thead>\n",
       "    <tr style=\"text-align: right;\">\n",
       "      <th></th>\n",
       "      <th>income_level</th>\n",
       "      <th>offer_accepted</th>\n",
       "      <th>count</th>\n",
       "      <th>percent</th>\n",
       "      <th>cumulative_count</th>\n",
       "      <th>cumulative_percent</th>\n",
       "    </tr>\n",
       "  </thead>\n",
       "  <tbody>\n",
       "    <tr>\n",
       "      <th>0</th>\n",
       "      <td>Medium</td>\n",
       "      <td>No</td>\n",
       "      <td>8543</td>\n",
       "      <td>47.461111</td>\n",
       "      <td>8543</td>\n",
       "      <td>47.461111</td>\n",
       "    </tr>\n",
       "    <tr>\n",
       "      <th>1</th>\n",
       "      <td>High</td>\n",
       "      <td>No</td>\n",
       "      <td>4361</td>\n",
       "      <td>24.227778</td>\n",
       "      <td>12904</td>\n",
       "      <td>71.688889</td>\n",
       "    </tr>\n",
       "    <tr>\n",
       "      <th>2</th>\n",
       "      <td>Low</td>\n",
       "      <td>No</td>\n",
       "      <td>4073</td>\n",
       "      <td>22.627778</td>\n",
       "      <td>16977</td>\n",
       "      <td>94.316667</td>\n",
       "    </tr>\n",
       "    <tr>\n",
       "      <th>3</th>\n",
       "      <td>Medium</td>\n",
       "      <td>Yes</td>\n",
       "      <td>470</td>\n",
       "      <td>2.611111</td>\n",
       "      <td>17447</td>\n",
       "      <td>96.927778</td>\n",
       "    </tr>\n",
       "    <tr>\n",
       "      <th>4</th>\n",
       "      <td>Low</td>\n",
       "      <td>Yes</td>\n",
       "      <td>388</td>\n",
       "      <td>2.155556</td>\n",
       "      <td>17835</td>\n",
       "      <td>99.083333</td>\n",
       "    </tr>\n",
       "    <tr>\n",
       "      <th>5</th>\n",
       "      <td>High</td>\n",
       "      <td>Yes</td>\n",
       "      <td>165</td>\n",
       "      <td>0.916667</td>\n",
       "      <td>18000</td>\n",
       "      <td>100.000000</td>\n",
       "    </tr>\n",
       "  </tbody>\n",
       "</table>\n",
       "</div>"
      ],
      "text/plain": [
       "  income_level offer_accepted  count    percent  cumulative_count  \\\n",
       "0       Medium             No   8543  47.461111              8543   \n",
       "1         High             No   4361  24.227778             12904   \n",
       "2          Low             No   4073  22.627778             16977   \n",
       "3       Medium            Yes    470   2.611111             17447   \n",
       "4          Low            Yes    388   2.155556             17835   \n",
       "5         High            Yes    165   0.916667             18000   \n",
       "\n",
       "   cumulative_percent  \n",
       "0           47.461111  \n",
       "1           71.688889  \n",
       "2           94.316667  \n",
       "3           96.927778  \n",
       "4           99.083333  \n",
       "5          100.000000  "
      ]
     },
     "execution_count": 17,
     "metadata": {},
     "output_type": "execute_result"
    }
   ],
   "source": [
    "df.stb.freq(['income_level', 'offer_accepted'])"
   ]
  },
  {
   "cell_type": "code",
   "execution_count": 18,
   "id": "8667822c",
   "metadata": {},
   "outputs": [
    {
     "data": {
      "text/html": [
       "<div>\n",
       "<style scoped>\n",
       "    .dataframe tbody tr th:only-of-type {\n",
       "        vertical-align: middle;\n",
       "    }\n",
       "\n",
       "    .dataframe tbody tr th {\n",
       "        vertical-align: top;\n",
       "    }\n",
       "\n",
       "    .dataframe thead th {\n",
       "        text-align: right;\n",
       "    }\n",
       "</style>\n",
       "<table border=\"1\" class=\"dataframe\">\n",
       "  <thead>\n",
       "    <tr style=\"text-align: right;\">\n",
       "      <th></th>\n",
       "      <th>mailer_type</th>\n",
       "      <th>offer_accepted</th>\n",
       "      <th>count</th>\n",
       "      <th>percent</th>\n",
       "      <th>cumulative_count</th>\n",
       "      <th>cumulative_percent</th>\n",
       "    </tr>\n",
       "  </thead>\n",
       "  <tbody>\n",
       "    <tr>\n",
       "      <th>0</th>\n",
       "      <td>Letter</td>\n",
       "      <td>No</td>\n",
       "      <td>8553</td>\n",
       "      <td>47.516667</td>\n",
       "      <td>8553</td>\n",
       "      <td>47.516667</td>\n",
       "    </tr>\n",
       "    <tr>\n",
       "      <th>1</th>\n",
       "      <td>Postcard</td>\n",
       "      <td>No</td>\n",
       "      <td>8424</td>\n",
       "      <td>46.800000</td>\n",
       "      <td>16977</td>\n",
       "      <td>94.316667</td>\n",
       "    </tr>\n",
       "    <tr>\n",
       "      <th>2</th>\n",
       "      <td>Postcard</td>\n",
       "      <td>Yes</td>\n",
       "      <td>723</td>\n",
       "      <td>4.016667</td>\n",
       "      <td>17700</td>\n",
       "      <td>98.333333</td>\n",
       "    </tr>\n",
       "    <tr>\n",
       "      <th>3</th>\n",
       "      <td>Letter</td>\n",
       "      <td>Yes</td>\n",
       "      <td>300</td>\n",
       "      <td>1.666667</td>\n",
       "      <td>18000</td>\n",
       "      <td>100.000000</td>\n",
       "    </tr>\n",
       "  </tbody>\n",
       "</table>\n",
       "</div>"
      ],
      "text/plain": [
       "  mailer_type offer_accepted  count    percent  cumulative_count  \\\n",
       "0      Letter             No   8553  47.516667              8553   \n",
       "1    Postcard             No   8424  46.800000             16977   \n",
       "2    Postcard            Yes    723   4.016667             17700   \n",
       "3      Letter            Yes    300   1.666667             18000   \n",
       "\n",
       "   cumulative_percent  \n",
       "0           47.516667  \n",
       "1           94.316667  \n",
       "2           98.333333  \n",
       "3          100.000000  "
      ]
     },
     "execution_count": 18,
     "metadata": {},
     "output_type": "execute_result"
    }
   ],
   "source": [
    "df.stb.freq(['mailer_type', 'offer_accepted'])"
   ]
  },
  {
   "cell_type": "markdown",
   "id": "64bdc895",
   "metadata": {},
   "source": [
    "**Resumen**\n",
    "\n",
    "Las principales conclusiones del análisis de variables categóricas son:\n",
    "\n",
    "- Los clientes que aceptan la tarjeta de credito tienen una clasificación creditiva baja.\n",
    "- Prefieren recibirla via postal.\n",
    "- En la mayoria de los casos, el nivel de ingresos de los clientes que aceptan la tarjeta de credito tienen un nivel de ingresos medio-bajo."
   ]
  },
  {
   "cell_type": "markdown",
   "id": "bfb035c5",
   "metadata": {},
   "source": [
    "### Variables numéricas"
   ]
  },
  {
   "cell_type": "code",
   "execution_count": 19,
   "id": "9e32f036",
   "metadata": {},
   "outputs": [
    {
     "name": "stdout",
     "output_type": "stream",
     "text": [
      "---  Resumen estadístico sobre los clientes que si aceptaron la oferta  ---\n"
     ]
    },
    {
     "data": {
      "text/html": [
       "<div>\n",
       "<style scoped>\n",
       "    .dataframe tbody tr th:only-of-type {\n",
       "        vertical-align: middle;\n",
       "    }\n",
       "\n",
       "    .dataframe tbody tr th {\n",
       "        vertical-align: top;\n",
       "    }\n",
       "\n",
       "    .dataframe thead th {\n",
       "        text-align: right;\n",
       "    }\n",
       "</style>\n",
       "<table border=\"1\" class=\"dataframe\">\n",
       "  <thead>\n",
       "    <tr style=\"text-align: right;\">\n",
       "      <th></th>\n",
       "      <th>count</th>\n",
       "      <th>mean</th>\n",
       "      <th>std</th>\n",
       "      <th>min</th>\n",
       "      <th>25%</th>\n",
       "      <th>50%</th>\n",
       "      <th>75%</th>\n",
       "      <th>max</th>\n",
       "    </tr>\n",
       "  </thead>\n",
       "  <tbody>\n",
       "    <tr>\n",
       "      <th>bank_accounts_open</th>\n",
       "      <td>1023.0</td>\n",
       "      <td>1.254154</td>\n",
       "      <td>0.463881</td>\n",
       "      <td>1.00</td>\n",
       "      <td>1.0</td>\n",
       "      <td>1.0</td>\n",
       "      <td>1.0</td>\n",
       "      <td>3.00</td>\n",
       "    </tr>\n",
       "    <tr>\n",
       "      <th>credit_cards_held</th>\n",
       "      <td>1023.0</td>\n",
       "      <td>1.896383</td>\n",
       "      <td>0.806661</td>\n",
       "      <td>1.00</td>\n",
       "      <td>1.0</td>\n",
       "      <td>2.0</td>\n",
       "      <td>2.0</td>\n",
       "      <td>4.00</td>\n",
       "    </tr>\n",
       "    <tr>\n",
       "      <th>homes_owned</th>\n",
       "      <td>1023.0</td>\n",
       "      <td>1.202346</td>\n",
       "      <td>0.423288</td>\n",
       "      <td>1.00</td>\n",
       "      <td>1.0</td>\n",
       "      <td>1.0</td>\n",
       "      <td>1.0</td>\n",
       "      <td>3.00</td>\n",
       "    </tr>\n",
       "    <tr>\n",
       "      <th>household_size</th>\n",
       "      <td>1023.0</td>\n",
       "      <td>3.440860</td>\n",
       "      <td>1.125306</td>\n",
       "      <td>1.00</td>\n",
       "      <td>3.0</td>\n",
       "      <td>3.0</td>\n",
       "      <td>4.0</td>\n",
       "      <td>9.00</td>\n",
       "    </tr>\n",
       "    <tr>\n",
       "      <th>average_balance</th>\n",
       "      <td>1021.0</td>\n",
       "      <td>934.980167</td>\n",
       "      <td>348.586313</td>\n",
       "      <td>75.75</td>\n",
       "      <td>800.5</td>\n",
       "      <td>1008.5</td>\n",
       "      <td>1151.0</td>\n",
       "      <td>1879.25</td>\n",
       "    </tr>\n",
       "    <tr>\n",
       "      <th>q1_balance</th>\n",
       "      <td>1021.0</td>\n",
       "      <td>868.670911</td>\n",
       "      <td>621.091927</td>\n",
       "      <td>2.00</td>\n",
       "      <td>359.0</td>\n",
       "      <td>721.0</td>\n",
       "      <td>1479.0</td>\n",
       "      <td>2189.00</td>\n",
       "    </tr>\n",
       "    <tr>\n",
       "      <th>q2_balance</th>\n",
       "      <td>1021.0</td>\n",
       "      <td>998.813908</td>\n",
       "      <td>463.188441</td>\n",
       "      <td>8.00</td>\n",
       "      <td>652.0</td>\n",
       "      <td>1051.0</td>\n",
       "      <td>1347.0</td>\n",
       "      <td>1995.00</td>\n",
       "    </tr>\n",
       "    <tr>\n",
       "      <th>q3_balance</th>\n",
       "      <td>1021.0</td>\n",
       "      <td>1060.929481</td>\n",
       "      <td>567.424601</td>\n",
       "      <td>11.00</td>\n",
       "      <td>630.0</td>\n",
       "      <td>964.0</td>\n",
       "      <td>1527.0</td>\n",
       "      <td>2292.00</td>\n",
       "    </tr>\n",
       "    <tr>\n",
       "      <th>q4_balance</th>\n",
       "      <td>1021.0</td>\n",
       "      <td>811.506366</td>\n",
       "      <td>548.032407</td>\n",
       "      <td>4.00</td>\n",
       "      <td>389.0</td>\n",
       "      <td>703.0</td>\n",
       "      <td>1198.0</td>\n",
       "      <td>2197.00</td>\n",
       "    </tr>\n",
       "  </tbody>\n",
       "</table>\n",
       "</div>"
      ],
      "text/plain": [
       "                     count         mean         std    min    25%     50%  \\\n",
       "bank_accounts_open  1023.0     1.254154    0.463881   1.00    1.0     1.0   \n",
       "credit_cards_held   1023.0     1.896383    0.806661   1.00    1.0     2.0   \n",
       "homes_owned         1023.0     1.202346    0.423288   1.00    1.0     1.0   \n",
       "household_size      1023.0     3.440860    1.125306   1.00    3.0     3.0   \n",
       "average_balance     1021.0   934.980167  348.586313  75.75  800.5  1008.5   \n",
       "q1_balance          1021.0   868.670911  621.091927   2.00  359.0   721.0   \n",
       "q2_balance          1021.0   998.813908  463.188441   8.00  652.0  1051.0   \n",
       "q3_balance          1021.0  1060.929481  567.424601  11.00  630.0   964.0   \n",
       "q4_balance          1021.0   811.506366  548.032407   4.00  389.0   703.0   \n",
       "\n",
       "                       75%      max  \n",
       "bank_accounts_open     1.0     3.00  \n",
       "credit_cards_held      2.0     4.00  \n",
       "homes_owned            1.0     3.00  \n",
       "household_size         4.0     9.00  \n",
       "average_balance     1151.0  1879.25  \n",
       "q1_balance          1479.0  2189.00  \n",
       "q2_balance          1347.0  1995.00  \n",
       "q3_balance          1527.0  2292.00  \n",
       "q4_balance          1198.0  2197.00  "
      ]
     },
     "metadata": {},
     "output_type": "display_data"
    },
    {
     "name": "stdout",
     "output_type": "stream",
     "text": [
      "---  Resumen estadístico sobre los clientes que NO aceptaron la oferta  ---\n"
     ]
    },
    {
     "data": {
      "text/html": [
       "<div>\n",
       "<style scoped>\n",
       "    .dataframe tbody tr th:only-of-type {\n",
       "        vertical-align: middle;\n",
       "    }\n",
       "\n",
       "    .dataframe tbody tr th {\n",
       "        vertical-align: top;\n",
       "    }\n",
       "\n",
       "    .dataframe thead th {\n",
       "        text-align: right;\n",
       "    }\n",
       "</style>\n",
       "<table border=\"1\" class=\"dataframe\">\n",
       "  <thead>\n",
       "    <tr style=\"text-align: right;\">\n",
       "      <th></th>\n",
       "      <th>count</th>\n",
       "      <th>mean</th>\n",
       "      <th>std</th>\n",
       "      <th>min</th>\n",
       "      <th>25%</th>\n",
       "      <th>50%</th>\n",
       "      <th>75%</th>\n",
       "      <th>max</th>\n",
       "    </tr>\n",
       "  </thead>\n",
       "  <tbody>\n",
       "    <tr>\n",
       "      <th>bank_accounts_open</th>\n",
       "      <td>16977.0</td>\n",
       "      <td>1.255876</td>\n",
       "      <td>0.473028</td>\n",
       "      <td>1.00</td>\n",
       "      <td>1.0</td>\n",
       "      <td>1.0</td>\n",
       "      <td>1.000</td>\n",
       "      <td>3.00</td>\n",
       "    </tr>\n",
       "    <tr>\n",
       "      <th>credit_cards_held</th>\n",
       "      <td>16977.0</td>\n",
       "      <td>1.903929</td>\n",
       "      <td>0.796445</td>\n",
       "      <td>1.00</td>\n",
       "      <td>1.0</td>\n",
       "      <td>2.0</td>\n",
       "      <td>2.000</td>\n",
       "      <td>4.00</td>\n",
       "    </tr>\n",
       "    <tr>\n",
       "      <th>homes_owned</th>\n",
       "      <td>16977.0</td>\n",
       "      <td>1.203511</td>\n",
       "      <td>0.427596</td>\n",
       "      <td>1.00</td>\n",
       "      <td>1.0</td>\n",
       "      <td>1.0</td>\n",
       "      <td>1.000</td>\n",
       "      <td>3.00</td>\n",
       "    </tr>\n",
       "    <tr>\n",
       "      <th>household_size</th>\n",
       "      <td>16977.0</td>\n",
       "      <td>3.502562</td>\n",
       "      <td>1.113444</td>\n",
       "      <td>1.00</td>\n",
       "      <td>3.0</td>\n",
       "      <td>3.0</td>\n",
       "      <td>4.000</td>\n",
       "      <td>8.00</td>\n",
       "    </tr>\n",
       "    <tr>\n",
       "      <th>average_balance</th>\n",
       "      <td>16955.0</td>\n",
       "      <td>940.848894</td>\n",
       "      <td>350.408076</td>\n",
       "      <td>48.25</td>\n",
       "      <td>787.0</td>\n",
       "      <td>1007.0</td>\n",
       "      <td>1153.375</td>\n",
       "      <td>3366.25</td>\n",
       "    </tr>\n",
       "    <tr>\n",
       "      <th>q1_balance</th>\n",
       "      <td>16955.0</td>\n",
       "      <td>912.966559</td>\n",
       "      <td>619.944358</td>\n",
       "      <td>0.00</td>\n",
       "      <td>396.0</td>\n",
       "      <td>774.0</td>\n",
       "      <td>1525.000</td>\n",
       "      <td>3450.00</td>\n",
       "    </tr>\n",
       "    <tr>\n",
       "      <th>q2_balance</th>\n",
       "      <td>16955.0</td>\n",
       "      <td>999.427013</td>\n",
       "      <td>457.065296</td>\n",
       "      <td>0.00</td>\n",
       "      <td>664.0</td>\n",
       "      <td>1031.0</td>\n",
       "      <td>1342.000</td>\n",
       "      <td>3421.00</td>\n",
       "    </tr>\n",
       "    <tr>\n",
       "      <th>q3_balance</th>\n",
       "      <td>16955.0</td>\n",
       "      <td>1040.895724</td>\n",
       "      <td>552.596459</td>\n",
       "      <td>0.00</td>\n",
       "      <td>633.0</td>\n",
       "      <td>945.0</td>\n",
       "      <td>1458.000</td>\n",
       "      <td>3823.00</td>\n",
       "    </tr>\n",
       "    <tr>\n",
       "      <th>q4_balance</th>\n",
       "      <td>16955.0</td>\n",
       "      <td>810.106281</td>\n",
       "      <td>559.670799</td>\n",
       "      <td>0.00</td>\n",
       "      <td>362.0</td>\n",
       "      <td>703.0</td>\n",
       "      <td>1213.000</td>\n",
       "      <td>4215.00</td>\n",
       "    </tr>\n",
       "  </tbody>\n",
       "</table>\n",
       "</div>"
      ],
      "text/plain": [
       "                      count         mean         std    min    25%     50%  \\\n",
       "bank_accounts_open  16977.0     1.255876    0.473028   1.00    1.0     1.0   \n",
       "credit_cards_held   16977.0     1.903929    0.796445   1.00    1.0     2.0   \n",
       "homes_owned         16977.0     1.203511    0.427596   1.00    1.0     1.0   \n",
       "household_size      16977.0     3.502562    1.113444   1.00    3.0     3.0   \n",
       "average_balance     16955.0   940.848894  350.408076  48.25  787.0  1007.0   \n",
       "q1_balance          16955.0   912.966559  619.944358   0.00  396.0   774.0   \n",
       "q2_balance          16955.0   999.427013  457.065296   0.00  664.0  1031.0   \n",
       "q3_balance          16955.0  1040.895724  552.596459   0.00  633.0   945.0   \n",
       "q4_balance          16955.0   810.106281  559.670799   0.00  362.0   703.0   \n",
       "\n",
       "                         75%      max  \n",
       "bank_accounts_open     1.000     3.00  \n",
       "credit_cards_held      2.000     4.00  \n",
       "homes_owned            1.000     3.00  \n",
       "household_size         4.000     8.00  \n",
       "average_balance     1153.375  3366.25  \n",
       "q1_balance          1525.000  3450.00  \n",
       "q2_balance          1342.000  3421.00  \n",
       "q3_balance          1458.000  3823.00  \n",
       "q4_balance          1213.000  4215.00  "
      ]
     },
     "metadata": {},
     "output_type": "display_data"
    }
   ],
   "source": [
    "df_yes = df[df['offer_accepted'] == 'Yes']\n",
    "df_no = df[df['offer_accepted'] == 'No']\n",
    "print(\"---  Resumen estadístico sobre los clientes que si aceptaron la oferta  ---\")\n",
    "display(df_yes.describe().T)\n",
    "print(\"---  Resumen estadístico sobre los clientes que NO aceptaron la oferta  ---\")\n",
    "display(df_no.describe().T)"
   ]
  },
  {
   "cell_type": "code",
   "execution_count": 20,
   "id": "3a59727d",
   "metadata": {},
   "outputs": [
    {
     "data": {
      "image/png": "[encoded data removed]",
      "text/plain": [
       "<Figure size 756x252 with 2 Axes>"
      ]
     },
     "metadata": {
      "needs_background": "light"
     },
     "output_type": "display_data"
    },
    {
     "data": {
      "image/png": "[encoded data removed]",
      "text/plain": [
       "<Figure size 756x252 with 2 Axes>"
      ]
     },
     "metadata": {
      "needs_background": "light"
     },
     "output_type": "display_data"
    },
    {
     "data": {
      "image/png": "[encoded data removed]",
      "text/plain": [
       "<Figure size 756x252 with 2 Axes>"
      ]
     },
     "metadata": {
      "needs_background": "light"
     },
     "output_type": "display_data"
    },
    {
     "data": {
      "image/png": "[encoded data removed]",
      "text/plain": [
       "<Figure size 756x252 with 2 Axes>"
      ]
     },
     "metadata": {
      "needs_background": "light"
     },
     "output_type": "display_data"
    },
    {
     "data": {
      "image/png": "[encoded data removed]",
      "text/plain": [
       "<Figure size 756x252 with 2 Axes>"
      ]
     },
     "metadata": {
      "needs_background": "light"
     },
     "output_type": "display_data"
    }
   ],
   "source": [
    "num_cols = df.select_dtypes(np.number).columns.drop(['q1_balance', 'q2_balance', 'q3_balance', 'q4_balance'])\n",
    "\n",
    "\n",
    "for i in range(len(num_cols)):\n",
    "    graf = sns.FacetGrid(df, col=\"offer_accepted\", height=3.5, aspect=1.5)\n",
    "    graf.map(sns.histplot, num_cols[i]);"
   ]
  },
  {
   "cell_type": "markdown",
   "id": "8c9979ea",
   "metadata": {},
   "source": [
    "Antes de realizar la codificación de las variables categóricas, revisamos la relación entre las variables numéricas."
   ]
  },
  {
   "cell_type": "code",
   "execution_count": 21,
   "id": "4a2338c3",
   "metadata": {},
   "outputs": [
    {
     "data": {
      "image/png": "[encoded data removed]",
      "text/plain": [
       "<Figure size 1080x432 with 2 Axes>"
      ]
     },
     "metadata": {
      "needs_background": "light"
     },
     "output_type": "display_data"
    }
   ],
   "source": [
    "plt.figure(figsize=(15,6))\n",
    "mask = np.triu(np.ones_like(df.corr(), dtype=bool))\n",
    "sns.heatmap(df.corr(), annot = True, mask = mask); #barra lateral"
   ]
  },
  {
   "cell_type": "code",
   "execution_count": 22,
   "id": "aa111dea",
   "metadata": {},
   "outputs": [],
   "source": [
    "df.drop(['q1_balance', 'q2_balance', 'q3_balance', 'q4_balance'], axis=1, inplace= True)"
   ]
  },
  {
   "cell_type": "markdown",
   "id": "4fbc60d9",
   "metadata": {},
   "source": [
    "**Resumen del análisis de las variables numéricas**\n",
    "\n",
    "Estas son las principales conclusiones extraídas:\n",
    "\n",
    "- La distribución de las variables continuas guardan relación entre los clientes que aceptaron y los que no, la tarjeta de crédito.\n",
    "- El 75% de los clientes disponen una única cuenta abierta y una casa en propiedad. Dado que es un número muy elevado de casos, hacer una oferta especial a este tipo de cliente posiblemente aumentaría las adquisiciones de tarjetas de crédito.\n",
    "- En la mayoría de los casos, tanto si aceptaron o no la oferta, los clientes no disponen de un sueldo superior a 1153$."
   ]
  },
  {
   "cell_type": "markdown",
   "id": "3d6acd58",
   "metadata": {},
   "source": [
    "# Preprocesamiento"
   ]
  },
  {
   "cell_type": "markdown",
   "id": "6397c5c3",
   "metadata": {},
   "source": [
    "## Outliers"
   ]
  },
  {
   "cell_type": "code",
   "execution_count": 23,
   "id": "2a8e4f23",
   "metadata": {},
   "outputs": [
    {
     "data": {
      "text/plain": [
       "6.173078786704138"
      ]
     },
     "execution_count": 23,
     "metadata": {},
     "output_type": "execute_result"
    }
   ],
   "source": [
    "df = df[df['average_balance'] <= np.nanpercentile(df['average_balance'], 75)]\n",
    "df = df[df['household_size'] <= np.nanpercentile(df['household_size'], 75)]\n",
    "df['offer_accepted'].value_counts()[1] / df['offer_accepted'].value_counts()[0] * 100     # % de personas que aceptaron la oferta"
   ]
  },
  {
   "cell_type": "markdown",
   "id": "99f6ec86",
   "metadata": {},
   "source": [
    "Desestimamos a los clientes que tienen un saldo en la cuenta superior al Q3, debido a que aun desestimándolos mantenemos la proporción entre clientes que aceptaron o no la oferta. Lo mismo ocurre con el numero de personas que hay en la familia."
   ]
  },
  {
   "cell_type": "markdown",
   "id": "43d6b1ac",
   "metadata": {},
   "source": [
    "# Estandarización"
   ]
  },
  {
   "cell_type": "code",
   "execution_count": 24,
   "id": "3a6c7799",
   "metadata": {},
   "outputs": [
    {
     "data": {
      "text/html": [
       "<div>\n",
       "<style scoped>\n",
       "    .dataframe tbody tr th:only-of-type {\n",
       "        vertical-align: middle;\n",
       "    }\n",
       "\n",
       "    .dataframe tbody tr th {\n",
       "        vertical-align: top;\n",
       "    }\n",
       "\n",
       "    .dataframe thead th {\n",
       "        text-align: right;\n",
       "    }\n",
       "</style>\n",
       "<table border=\"1\" class=\"dataframe\">\n",
       "  <thead>\n",
       "    <tr style=\"text-align: right;\">\n",
       "      <th></th>\n",
       "      <th>offer_accepted</th>\n",
       "      <th>reward</th>\n",
       "      <th>mailer_type</th>\n",
       "      <th>income_level</th>\n",
       "      <th>bank_accounts_open</th>\n",
       "      <th>overdraft_protection</th>\n",
       "      <th>credit_rating</th>\n",
       "      <th>credit_cards_held</th>\n",
       "      <th>homes_owned</th>\n",
       "      <th>household_size</th>\n",
       "      <th>own_your_home</th>\n",
       "      <th>average_balance</th>\n",
       "    </tr>\n",
       "    <tr>\n",
       "      <th>Customer Number</th>\n",
       "      <th></th>\n",
       "      <th></th>\n",
       "      <th></th>\n",
       "      <th></th>\n",
       "      <th></th>\n",
       "      <th></th>\n",
       "      <th></th>\n",
       "      <th></th>\n",
       "      <th></th>\n",
       "      <th></th>\n",
       "      <th></th>\n",
       "      <th></th>\n",
       "    </tr>\n",
       "  </thead>\n",
       "  <tbody>\n",
       "    <tr>\n",
       "      <th>3</th>\n",
       "      <td>No</td>\n",
       "      <td>Air Miles</td>\n",
       "      <td>Postcard</td>\n",
       "      <td>High</td>\n",
       "      <td>1.58558</td>\n",
       "      <td>No</td>\n",
       "      <td>Medium</td>\n",
       "      <td>0.123321</td>\n",
       "      <td>-0.465955</td>\n",
       "      <td>-1.328969</td>\n",
       "      <td>Yes</td>\n",
       "      <td>-1.790385</td>\n",
       "    </tr>\n",
       "    <tr>\n",
       "      <th>6</th>\n",
       "      <td>No</td>\n",
       "      <td>Air Miles</td>\n",
       "      <td>Letter</td>\n",
       "      <td>Medium</td>\n",
       "      <td>-0.54643</td>\n",
       "      <td>No</td>\n",
       "      <td>High</td>\n",
       "      <td>1.382507</td>\n",
       "      <td>-0.465955</td>\n",
       "      <td>1.061670</td>\n",
       "      <td>No</td>\n",
       "      <td>0.988301</td>\n",
       "    </tr>\n",
       "    <tr>\n",
       "      <th>7</th>\n",
       "      <td>No</td>\n",
       "      <td>Air Miles</td>\n",
       "      <td>Letter</td>\n",
       "      <td>Medium</td>\n",
       "      <td>-0.54643</td>\n",
       "      <td>No</td>\n",
       "      <td>Medium</td>\n",
       "      <td>0.123321</td>\n",
       "      <td>-0.465955</td>\n",
       "      <td>-0.133650</td>\n",
       "      <td>No</td>\n",
       "      <td>-1.766353</td>\n",
       "    </tr>\n",
       "    <tr>\n",
       "      <th>8</th>\n",
       "      <td>No</td>\n",
       "      <td>Cash Back</td>\n",
       "      <td>Postcard</td>\n",
       "      <td>Low</td>\n",
       "      <td>-0.54643</td>\n",
       "      <td>No</td>\n",
       "      <td>Medium</td>\n",
       "      <td>2.641692</td>\n",
       "      <td>-0.465955</td>\n",
       "      <td>1.061670</td>\n",
       "      <td>Yes</td>\n",
       "      <td>-1.783756</td>\n",
       "    </tr>\n",
       "    <tr>\n",
       "      <th>9</th>\n",
       "      <td>No</td>\n",
       "      <td>Air Miles</td>\n",
       "      <td>Postcard</td>\n",
       "      <td>Medium</td>\n",
       "      <td>-0.54643</td>\n",
       "      <td>No</td>\n",
       "      <td>Low</td>\n",
       "      <td>0.123321</td>\n",
       "      <td>-0.465955</td>\n",
       "      <td>1.061670</td>\n",
       "      <td>Yes</td>\n",
       "      <td>0.624495</td>\n",
       "    </tr>\n",
       "    <tr>\n",
       "      <th>10</th>\n",
       "      <td>No</td>\n",
       "      <td>Air Miles</td>\n",
       "      <td>Letter</td>\n",
       "      <td>High</td>\n",
       "      <td>1.58558</td>\n",
       "      <td>No</td>\n",
       "      <td>Low</td>\n",
       "      <td>1.382507</td>\n",
       "      <td>1.909571</td>\n",
       "      <td>1.061670</td>\n",
       "      <td>Yes</td>\n",
       "      <td>0.522562</td>\n",
       "    </tr>\n",
       "    <tr>\n",
       "      <th>11</th>\n",
       "      <td>No</td>\n",
       "      <td>Air Miles</td>\n",
       "      <td>Postcard</td>\n",
       "      <td>Medium</td>\n",
       "      <td>-0.54643</td>\n",
       "      <td>No</td>\n",
       "      <td>Medium</td>\n",
       "      <td>1.382507</td>\n",
       "      <td>-0.465955</td>\n",
       "      <td>-1.328969</td>\n",
       "      <td>Yes</td>\n",
       "      <td>1.056256</td>\n",
       "    </tr>\n",
       "    <tr>\n",
       "      <th>13</th>\n",
       "      <td>No</td>\n",
       "      <td>Points</td>\n",
       "      <td>Letter</td>\n",
       "      <td>Medium</td>\n",
       "      <td>-0.54643</td>\n",
       "      <td>No</td>\n",
       "      <td>Low</td>\n",
       "      <td>-1.135864</td>\n",
       "      <td>-0.465955</td>\n",
       "      <td>-1.328969</td>\n",
       "      <td>Yes</td>\n",
       "      <td>1.106808</td>\n",
       "    </tr>\n",
       "    <tr>\n",
       "      <th>14</th>\n",
       "      <td>No</td>\n",
       "      <td>Points</td>\n",
       "      <td>Letter</td>\n",
       "      <td>Low</td>\n",
       "      <td>-0.54643</td>\n",
       "      <td>No</td>\n",
       "      <td>High</td>\n",
       "      <td>-1.135864</td>\n",
       "      <td>-0.465955</td>\n",
       "      <td>-0.133650</td>\n",
       "      <td>No</td>\n",
       "      <td>0.781122</td>\n",
       "    </tr>\n",
       "    <tr>\n",
       "      <th>15</th>\n",
       "      <td>No</td>\n",
       "      <td>Air Miles</td>\n",
       "      <td>Letter</td>\n",
       "      <td>Low</td>\n",
       "      <td>1.58558</td>\n",
       "      <td>No</td>\n",
       "      <td>High</td>\n",
       "      <td>1.382507</td>\n",
       "      <td>-0.465955</td>\n",
       "      <td>-0.133650</td>\n",
       "      <td>Yes</td>\n",
       "      <td>0.651842</td>\n",
       "    </tr>\n",
       "  </tbody>\n",
       "</table>\n",
       "</div>"
      ],
      "text/plain": [
       "                offer_accepted     reward mailer_type income_level  \\\n",
       "Customer Number                                                      \n",
       "3                           No  Air Miles    Postcard         High   \n",
       "6                           No  Air Miles      Letter       Medium   \n",
       "7                           No  Air Miles      Letter       Medium   \n",
       "8                           No  Cash Back    Postcard          Low   \n",
       "9                           No  Air Miles    Postcard       Medium   \n",
       "10                          No  Air Miles      Letter         High   \n",
       "11                          No  Air Miles    Postcard       Medium   \n",
       "13                          No     Points      Letter       Medium   \n",
       "14                          No     Points      Letter          Low   \n",
       "15                          No  Air Miles      Letter          Low   \n",
       "\n",
       "                 bank_accounts_open overdraft_protection credit_rating  \\\n",
       "Customer Number                                                          \n",
       "3                           1.58558                   No        Medium   \n",
       "6                          -0.54643                   No          High   \n",
       "7                          -0.54643                   No        Medium   \n",
       "8                          -0.54643                   No        Medium   \n",
       "9                          -0.54643                   No           Low   \n",
       "10                          1.58558                   No           Low   \n",
       "11                         -0.54643                   No        Medium   \n",
       "13                         -0.54643                   No           Low   \n",
       "14                         -0.54643                   No          High   \n",
       "15                          1.58558                   No          High   \n",
       "\n",
       "                 credit_cards_held  homes_owned  household_size own_your_home  \\\n",
       "Customer Number                                                                 \n",
       "3                         0.123321    -0.465955       -1.328969           Yes   \n",
       "6                         1.382507    -0.465955        1.061670            No   \n",
       "7                         0.123321    -0.465955       -0.133650            No   \n",
       "8                         2.641692    -0.465955        1.061670           Yes   \n",
       "9                         0.123321    -0.465955        1.061670           Yes   \n",
       "10                        1.382507     1.909571        1.061670           Yes   \n",
       "11                        1.382507    -0.465955       -1.328969           Yes   \n",
       "13                       -1.135864    -0.465955       -1.328969           Yes   \n",
       "14                       -1.135864    -0.465955       -0.133650            No   \n",
       "15                        1.382507    -0.465955       -0.133650           Yes   \n",
       "\n",
       "                 average_balance  \n",
       "Customer Number                   \n",
       "3                      -1.790385  \n",
       "6                       0.988301  \n",
       "7                      -1.766353  \n",
       "8                      -1.783756  \n",
       "9                       0.624495  \n",
       "10                      0.522562  \n",
       "11                      1.056256  \n",
       "13                      1.106808  \n",
       "14                      0.781122  \n",
       "15                      0.651842  "
      ]
     },
     "execution_count": 24,
     "metadata": {},
     "output_type": "execute_result"
    }
   ],
   "source": [
    "num_col = df.select_dtypes(include=np.number).columns\n",
    "\n",
    "scaler = StandardScaler()\n",
    "scaler.fit(df[num_col])\n",
    "X_escaladas = scaler.transform(df[num_col])\n",
    "df[num_col] = X_escaladas\n",
    "df.head(10)"
   ]
  },
  {
   "cell_type": "markdown",
   "id": "868354f2",
   "metadata": {},
   "source": [
    "# Codificación  "
   ]
  },
  {
   "cell_type": "code",
   "execution_count": 25,
   "id": "53159dec",
   "metadata": {},
   "outputs": [],
   "source": [
    "df['offer_accepted'] = df['offer_accepted'].replace('Yes', 1).replace('No', 0)\n",
    "\n",
    "def ordinal_encoder(orden, df, columna):\n",
    "    ordinal = OrdinalEncoder(categories = [orden], dtype = int)\n",
    "    transformados_oe = ordinal.fit_transform(df[[columna]])\n",
    "    df[columna] = transformados_oe\n",
    "    return df\n",
    "\n",
    "orden_mailer = ['Letter', 'Postcard']\n",
    "orden_income = ['Low', 'High', 'Medium']\n",
    "orden_protection = ['Yes', 'No']\n",
    "orden_home = ['No', 'Yes']\n",
    "\n",
    "df = ordinal_encoder(orden_mailer, df, \"mailer_type\")\n",
    "df = ordinal_encoder(orden_income, df, \"income_level\")\n",
    "df = ordinal_encoder(orden_protection, df, \"overdraft_protection\")\n",
    "df = ordinal_encoder(orden_home, df, \"own_your_home\")\n",
    "\n",
    "names_col = ['reward', 'credit_rating']\n",
    "\n",
    "for col in names_col:\n",
    "    dummies = pd.get_dummies(df[col], prefix_sep = \"_\", prefix = col, dtype = int)\n",
    "    df = pd.concat([dummies, df], axis = 1)\n",
    "    \n",
    "df.drop(names_col, axis = 1, inplace = True)"
   ]
  },
  {
   "cell_type": "markdown",
   "id": "e897fc38",
   "metadata": {},
   "source": [
    "# Ajuste de modelo "
   ]
  },
  {
   "cell_type": "code",
   "execution_count": 26,
   "id": "96a935ef",
   "metadata": {},
   "outputs": [],
   "source": [
    "# dividimos el dataset en variables predictoras y respuesta\n",
    "X = df.drop('offer_accepted', axis = 1) # variables predictoras\n",
    "y = df[\"offer_accepted\"] # variable respuesta "
   ]
  },
  {
   "cell_type": "code",
   "execution_count": 27,
   "id": "dfe2683d",
   "metadata": {},
   "outputs": [
    {
     "data": {
      "text/plain": [
       "0    637\n",
       "1    637\n",
       "Name: offer_accepted, dtype: int64"
      ]
     },
     "execution_count": 27,
     "metadata": {},
     "output_type": "execute_result"
    }
   ],
   "source": [
    "# iniciamos el método\n",
    "down = RandomUnderSampler()\n",
    "\n",
    "# ajustamos el modelo\n",
    "X_down, y_down = down.fit_resample(X,y)\n",
    "\n",
    "y_down.value_counts()"
   ]
  },
  {
   "cell_type": "code",
   "execution_count": null,
   "id": "89691694",
   "metadata": {},
   "outputs": [],
   "source": []
  },
  {
   "cell_type": "code",
   "execution_count": 28,
   "id": "dea5aea9",
   "metadata": {},
   "outputs": [],
   "source": [
    "X_train, X_test, y_train, y_test = train_test_split(X_down, y_down, test_size = 0.2, random_state = 25)"
   ]
  },
  {
   "cell_type": "code",
   "execution_count": 29,
   "id": "7670dfff",
   "metadata": {},
   "outputs": [
    {
     "data": {
      "text/plain": [
       "count    1019.000000\n",
       "mean        0.501472\n",
       "std         0.500243\n",
       "min         0.000000\n",
       "25%         0.000000\n",
       "50%         1.000000\n",
       "75%         1.000000\n",
       "max         1.000000\n",
       "Name: offer_accepted, dtype: float64"
      ]
     },
     "execution_count": 29,
     "metadata": {},
     "output_type": "execute_result"
    }
   ],
   "source": [
    "y_train.describe()"
   ]
  },
  {
   "cell_type": "code",
   "execution_count": 30,
   "id": "1742ab73",
   "metadata": {},
   "outputs": [
    {
     "data": {
      "text/plain": [
       "count    255.000000\n",
       "mean       0.494118\n",
       "std        0.500949\n",
       "min        0.000000\n",
       "25%        0.000000\n",
       "50%        0.000000\n",
       "75%        1.000000\n",
       "max        1.000000\n",
       "Name: offer_accepted, dtype: float64"
      ]
     },
     "execution_count": 30,
     "metadata": {},
     "output_type": "execute_result"
    }
   ],
   "source": [
    "y_test.describe()"
   ]
  },
  {
   "cell_type": "markdown",
   "id": "4ce8a894",
   "metadata": {},
   "source": [
    "## Logistic Regression"
   ]
  },
  {
   "cell_type": "code",
   "execution_count": 31,
   "id": "2fc5d8eb",
   "metadata": {},
   "outputs": [
    {
     "data": {
      "text/html": [
       "<style>#sk-container-id-1 {color: black;background-color: white;}#sk-container-id-1 pre{padding: 0;}#sk-container-id-1 div.sk-toggleable {background-color: white;}#sk-container-id-1 label.sk-toggleable__label {cursor: pointer;display: block;width: 100%;margin-bottom: 0;padding: 0.3em;box-sizing: border-box;text-align: center;}#sk-container-id-1 label.sk-toggleable__label-arrow:before {content: \"▸\";float: left;margin-right: 0.25em;color: #696969;}#sk-container-id-1 label.sk-toggleable__label-arrow:hover:before {color: black;}#sk-container-id-1 div.sk-estimator:hover label.sk-toggleable__label-arrow:before {color: black;}#sk-container-id-1 div.sk-toggleable__content {max-height: 0;max-width: 0;overflow: hidden;text-align: left;background-color: #f0f8ff;}#sk-container-id-1 div.sk-toggleable__content pre {margin: 0.2em;color: black;border-radius: 0.25em;background-color: #f0f8ff;}#sk-container-id-1 input.sk-toggleable__control:checked~div.sk-toggleable__content {max-height: 200px;max-width: 100%;overflow: auto;}#sk-container-id-1 input.sk-toggleable__control:checked~label.sk-toggleable__label-arrow:before {content: \"▾\";}#sk-container-id-1 div.sk-estimator input.sk-toggleable__control:checked~label.sk-toggleable__label {background-color: #d4ebff;}#sk-container-id-1 div.sk-label input.sk-toggleable__control:checked~label.sk-toggleable__label {background-color: #d4ebff;}#sk-container-id-1 input.sk-hidden--visually {border: 0;clip: rect(1px 1px 1px 1px);clip: rect(1px, 1px, 1px, 1px);height: 1px;margin: -1px;overflow: hidden;padding: 0;position: absolute;width: 1px;}#sk-container-id-1 div.sk-estimator {font-family: monospace;background-color: #f0f8ff;border: 1px dotted black;border-radius: 0.25em;box-sizing: border-box;margin-bottom: 0.5em;}#sk-container-id-1 div.sk-estimator:hover {background-color: #d4ebff;}#sk-container-id-1 div.sk-parallel-item::after {content: \"\";width: 100%;border-bottom: 1px solid gray;flex-grow: 1;}#sk-container-id-1 div.sk-label:hover label.sk-toggleable__label {background-color: #d4ebff;}#sk-container-id-1 div.sk-serial::before {content: \"\";position: absolute;border-left: 1px solid gray;box-sizing: border-box;top: 0;bottom: 0;left: 50%;z-index: 0;}#sk-container-id-1 div.sk-serial {display: flex;flex-direction: column;align-items: center;background-color: white;padding-right: 0.2em;padding-left: 0.2em;position: relative;}#sk-container-id-1 div.sk-item {position: relative;z-index: 1;}#sk-container-id-1 div.sk-parallel {display: flex;align-items: stretch;justify-content: center;background-color: white;position: relative;}#sk-container-id-1 div.sk-item::before, #sk-container-id-1 div.sk-parallel-item::before {content: \"\";position: absolute;border-left: 1px solid gray;box-sizing: border-box;top: 0;bottom: 0;left: 50%;z-index: -1;}#sk-container-id-1 div.sk-parallel-item {display: flex;flex-direction: column;z-index: 1;position: relative;background-color: white;}#sk-container-id-1 div.sk-parallel-item:first-child::after {align-self: flex-end;width: 50%;}#sk-container-id-1 div.sk-parallel-item:last-child::after {align-self: flex-start;width: 50%;}#sk-container-id-1 div.sk-parallel-item:only-child::after {width: 0;}#sk-container-id-1 div.sk-dashed-wrapped {border: 1px dashed gray;margin: 0 0.4em 0.5em 0.4em;box-sizing: border-box;padding-bottom: 0.4em;background-color: white;}#sk-container-id-1 div.sk-label label {font-family: monospace;font-weight: bold;display: inline-block;line-height: 1.2em;}#sk-container-id-1 div.sk-label-container {text-align: center;}#sk-container-id-1 div.sk-container {/* jupyter's `normalize.less` sets `[hidden] { display: none; }` but bootstrap.min.css set `[hidden] { display: none !important; }` so we also need the `!important` here to be able to override the default hidden behavior on the sphinx rendered scikit-learn.org. See: https://github.com/scikit-learn/scikit-learn/issues/21755 */display: inline-block !important;position: relative;}#sk-container-id-1 div.sk-text-repr-fallback {display: none;}</style><div id=\"sk-container-id-1\" class=\"sk-top-container\"><div class=\"sk-text-repr-fallback\"><pre>LogisticRegression(max_iter=100000)</pre><b>In a Jupyter environment, please rerun this cell to show the HTML representation or trust the notebook. <br />On GitHub, the HTML representation is unable to render, please try loading this page with nbviewer.org.</b></div><div class=\"sk-container\" hidden><div class=\"sk-item\"><div class=\"sk-estimator sk-toggleable\"><input class=\"sk-toggleable__control sk-hidden--visually\" id=\"sk-estimator-id-1\" type=\"checkbox\" checked><label for=\"sk-estimator-id-1\" class=\"sk-toggleable__label sk-toggleable__label-arrow\">LogisticRegression</label><div class=\"sk-toggleable__content\"><pre>LogisticRegression(max_iter=100000)</pre></div></div></div></div></div>"
      ],
      "text/plain": [
       "LogisticRegression(max_iter=100000)"
      ]
     },
     "execution_count": 31,
     "metadata": {},
     "output_type": "execute_result"
    }
   ],
   "source": [
    "lr = LogisticRegression(max_iter = 100000)\n",
    "lr.fit(X_train, y_train)"
   ]
  },
  {
   "cell_type": "code",
   "execution_count": 32,
   "id": "0120b6d1",
   "metadata": {},
   "outputs": [],
   "source": [
    "y_pred_lr_test = lr.predict(X_test)\n",
    "y_pred_lr_train = lr.predict(X_train)"
   ]
  },
  {
   "cell_type": "code",
   "execution_count": 33,
   "id": "022f700d",
   "metadata": {},
   "outputs": [
    {
     "data": {
      "text/html": [
       "<div>\n",
       "<style scoped>\n",
       "    .dataframe tbody tr th:only-of-type {\n",
       "        vertical-align: middle;\n",
       "    }\n",
       "\n",
       "    .dataframe tbody tr th {\n",
       "        vertical-align: top;\n",
       "    }\n",
       "\n",
       "    .dataframe thead th {\n",
       "        text-align: right;\n",
       "    }\n",
       "</style>\n",
       "<table border=\"1\" class=\"dataframe\">\n",
       "  <thead>\n",
       "    <tr style=\"text-align: right;\">\n",
       "      <th></th>\n",
       "      <th>0</th>\n",
       "      <th>1</th>\n",
       "    </tr>\n",
       "  </thead>\n",
       "  <tbody>\n",
       "    <tr>\n",
       "      <th>0</th>\n",
       "      <td>33.73</td>\n",
       "      <td>16.86</td>\n",
       "    </tr>\n",
       "    <tr>\n",
       "      <th>1</th>\n",
       "      <td>15.69</td>\n",
       "      <td>33.73</td>\n",
       "    </tr>\n",
       "  </tbody>\n",
       "</table>\n",
       "</div>"
      ],
      "text/plain": [
       "       0      1\n",
       "0  33.73  16.86\n",
       "1  15.69  33.73"
      ]
     },
     "execution_count": 33,
     "metadata": {},
     "output_type": "execute_result"
    }
   ],
   "source": [
    "def matriz_confusion(clases_reales, clases_predichas, total_filas_test):\n",
    "    mat_lr = confusion_matrix(clases_reales, clases_predichas)\n",
    "\n",
    "    df = pd.DataFrame(mat_lr)\n",
    "    df = ((df / total_filas_test) * 100).round(2)\n",
    "    return df\n",
    "\n",
    "matriz_logistica = matriz_confusion(y_test, y_pred_lr_test, y_test.shape[0])\n",
    "matriz_logistica"
   ]
  },
  {
   "cell_type": "markdown",
   "id": "5e301dbb",
   "metadata": {},
   "source": [
    "## Decision Tree Classifier"
   ]
  },
  {
   "cell_type": "code",
   "execution_count": 34,
   "id": "a030cde8",
   "metadata": {},
   "outputs": [
    {
     "data": {
      "text/plain": [
       "array([[86, 43],\n",
       "       [40, 86]], dtype=int64)"
      ]
     },
     "execution_count": 34,
     "metadata": {},
     "output_type": "execute_result"
    }
   ],
   "source": [
    "confusion_matrix(y_test, y_pred_lr_test)"
   ]
  },
  {
   "cell_type": "code",
   "execution_count": null,
   "id": "0259f669",
   "metadata": {},
   "outputs": [],
   "source": []
  }
 ],
 "metadata": {
  "kernelspec": {
   "display_name": "Python 3 (ipykernel)",
   "language": "python",
   "name": "python3"
  },
  "language_info": {
   "codemirror_mode": {
    "name": "ipython",
    "version": 3
   },
   "file_extension": ".py",
   "mimetype": "text/x-python",
   "name": "python",
   "nbconvert_exporter": "python",
   "pygments_lexer": "ipython3",
   "version": "3.9.7"
  }
 },
 "nbformat": 4,
 "nbformat_minor": 5
}
